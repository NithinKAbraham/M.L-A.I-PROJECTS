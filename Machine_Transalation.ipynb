{
  "cells": [
    {
      "cell_type": "code",
      "execution_count": null,
      "metadata": {
        "id": "nGnvsvLYRrli"
      },
      "outputs": [],
      "source": [
        "import numpy as np\n",
        "import pandas as pd\n",
        "import seaborn as sns\n",
        "import matplotlib.pyplot as plt"
      ]
    },
    {
      "cell_type": "code",
      "execution_count": null,
      "metadata": {
        "id": "IHaX5e9CRyLv"
      },
      "outputs": [],
      "source": [
        "import tensorflow as tf\n",
        "from sklearn.model_selection import train_test_split\n",
        "from tensorflow.keras.preprocessing.text import Tokenizer\n",
        "from tensorflow.keras.preprocessing.sequence import pad_sequences"
      ]
    },
    {
      "cell_type": "code",
      "execution_count": null,
      "metadata": {
        "id": "d0WJgITdRyR3"
      },
      "outputs": [],
      "source": [
        "file_path = \"/content/jpn.txt\"\n",
        "\n",
        "with open(file_path, 'r', encoding='utf-8') as file:\n",
        "    lines = file.readlines()\n",
        "\n",
        "\n",
        "data = [line.strip().split('\\t') for line in lines]\n",
        "\n",
        "# Create DataFrame\n",
        "df = pd.DataFrame(data, columns=['source', 'target','col3'])"
      ]
    },
    {
      "cell_type": "code",
      "execution_count": null,
      "metadata": {
        "colab": {
          "base_uri": "https://localhost:8080/"
        },
        "id": "3XGzOcaPJIBF",
        "outputId": "9e25c55f-d53e-4dc7-f15b-3fc385d487a8"
      },
      "outputs": [
        {
          "output_type": "execute_result",
          "data": {
            "text/plain": [
              "(55639, 3)"
            ]
          },
          "metadata": {},
          "execution_count": 4
        }
      ],
      "source": [
        "df.shape"
      ]
    },
    {
      "cell_type": "code",
      "source": [
        "df"
      ],
      "metadata": {
        "colab": {
          "base_uri": "https://localhost:8080/",
          "height": 597
        },
        "id": "kXBiz4qWW867",
        "outputId": "cb7589c8-a130-4bb1-f9d5-e1e27688b0d8"
      },
      "execution_count": null,
      "outputs": [
        {
          "output_type": "execute_result",
          "data": {
            "text/plain": [
              "                                                  source  \\\n",
              "0                                                    Go.   \n",
              "1                                                    Go.   \n",
              "2                                                    Hi.   \n",
              "3                                                    Hi.   \n",
              "4                                                    Hi.   \n",
              "...                                                  ...   \n",
              "55634  The bus now arriving is going to Domestic Term...   \n",
              "55635  A child who is a native speaker usually knows ...   \n",
              "55636  I do many things at the same time, so not only...   \n",
              "55637  The small crowd at Hiroshima Peace Memorial Pa...   \n",
              "55638  If someone who doesn't know your background sa...   \n",
              "\n",
              "                                                  target  \\\n",
              "0                                                    行け。   \n",
              "1                                                 行きなさい。   \n",
              "2                                                 こんにちは。   \n",
              "3                                                  もしもし。   \n",
              "4                                                  やっほー。   \n",
              "...                                                  ...   \n",
              "55634  ただ今到着のバスは、国内線第1ターミナル行きです。国際線ターミナルにお越しの方は、しばらくそ...   \n",
              "55635  ネイティブの子どもは、何年も学んだ非ネイティブが知らず今後も知り得ないたくさんのことを自身の...   \n",
              "55636  色々並行してやってるから芥川ばかり読んでるのでもないのだよ。今は英語読んでる時間が増えてる。...   \n",
              "55637  アメリカ軍用機エノラ・ゲイから「リトルボーイ」と名付けられた原子爆弾が投下された午前８時１５...   \n",
              "55638  生い立ちを知らない人にネイティブみたいに聞こえるよって言われたら、それはおそらく、あなたの喋...   \n",
              "\n",
              "                                                    col3  \n",
              "0      CC-BY 2.0 (France) Attribution: tatoeba.org #2...  \n",
              "1      CC-BY 2.0 (France) Attribution: tatoeba.org #2...  \n",
              "2      CC-BY 2.0 (France) Attribution: tatoeba.org #5...  \n",
              "3      CC-BY 2.0 (France) Attribution: tatoeba.org #5...  \n",
              "4      CC-BY 2.0 (France) Attribution: tatoeba.org #5...  \n",
              "...                                                  ...  \n",
              "55634  CC-BY 2.0 (France) Attribution: tatoeba.org #4...  \n",
              "55635  CC-BY 2.0 (France) Attribution: tatoeba.org #9...  \n",
              "55636  CC-BY 2.0 (France) Attribution: tatoeba.org #1...  \n",
              "55637  CC-BY 2.0 (France) Attribution: tatoeba.org #8...  \n",
              "55638  CC-BY 2.0 (France) Attribution: tatoeba.org #9...  \n",
              "\n",
              "[55639 rows x 3 columns]"
            ],
            "text/html": [
              "\n",
              "  <div id=\"df-b7777508-2337-4ea1-91fc-ba98c1d0e317\" class=\"colab-df-container\">\n",
              "    <div>\n",
              "<style scoped>\n",
              "    .dataframe tbody tr th:only-of-type {\n",
              "        vertical-align: middle;\n",
              "    }\n",
              "\n",
              "    .dataframe tbody tr th {\n",
              "        vertical-align: top;\n",
              "    }\n",
              "\n",
              "    .dataframe thead th {\n",
              "        text-align: right;\n",
              "    }\n",
              "</style>\n",
              "<table border=\"1\" class=\"dataframe\">\n",
              "  <thead>\n",
              "    <tr style=\"text-align: right;\">\n",
              "      <th></th>\n",
              "      <th>source</th>\n",
              "      <th>target</th>\n",
              "      <th>col3</th>\n",
              "    </tr>\n",
              "  </thead>\n",
              "  <tbody>\n",
              "    <tr>\n",
              "      <th>0</th>\n",
              "      <td>Go.</td>\n",
              "      <td>行け。</td>\n",
              "      <td>CC-BY 2.0 (France) Attribution: tatoeba.org #2...</td>\n",
              "    </tr>\n",
              "    <tr>\n",
              "      <th>1</th>\n",
              "      <td>Go.</td>\n",
              "      <td>行きなさい。</td>\n",
              "      <td>CC-BY 2.0 (France) Attribution: tatoeba.org #2...</td>\n",
              "    </tr>\n",
              "    <tr>\n",
              "      <th>2</th>\n",
              "      <td>Hi.</td>\n",
              "      <td>こんにちは。</td>\n",
              "      <td>CC-BY 2.0 (France) Attribution: tatoeba.org #5...</td>\n",
              "    </tr>\n",
              "    <tr>\n",
              "      <th>3</th>\n",
              "      <td>Hi.</td>\n",
              "      <td>もしもし。</td>\n",
              "      <td>CC-BY 2.0 (France) Attribution: tatoeba.org #5...</td>\n",
              "    </tr>\n",
              "    <tr>\n",
              "      <th>4</th>\n",
              "      <td>Hi.</td>\n",
              "      <td>やっほー。</td>\n",
              "      <td>CC-BY 2.0 (France) Attribution: tatoeba.org #5...</td>\n",
              "    </tr>\n",
              "    <tr>\n",
              "      <th>...</th>\n",
              "      <td>...</td>\n",
              "      <td>...</td>\n",
              "      <td>...</td>\n",
              "    </tr>\n",
              "    <tr>\n",
              "      <th>55634</th>\n",
              "      <td>The bus now arriving is going to Domestic Term...</td>\n",
              "      <td>ただ今到着のバスは、国内線第1ターミナル行きです。国際線ターミナルにお越しの方は、しばらくそ...</td>\n",
              "      <td>CC-BY 2.0 (France) Attribution: tatoeba.org #4...</td>\n",
              "    </tr>\n",
              "    <tr>\n",
              "      <th>55635</th>\n",
              "      <td>A child who is a native speaker usually knows ...</td>\n",
              "      <td>ネイティブの子どもは、何年も学んだ非ネイティブが知らず今後も知り得ないたくさんのことを自身の...</td>\n",
              "      <td>CC-BY 2.0 (France) Attribution: tatoeba.org #9...</td>\n",
              "    </tr>\n",
              "    <tr>\n",
              "      <th>55636</th>\n",
              "      <td>I do many things at the same time, so not only...</td>\n",
              "      <td>色々並行してやってるから芥川ばかり読んでるのでもないのだよ。今は英語読んでる時間が増えてる。...</td>\n",
              "      <td>CC-BY 2.0 (France) Attribution: tatoeba.org #1...</td>\n",
              "    </tr>\n",
              "    <tr>\n",
              "      <th>55637</th>\n",
              "      <td>The small crowd at Hiroshima Peace Memorial Pa...</td>\n",
              "      <td>アメリカ軍用機エノラ・ゲイから「リトルボーイ」と名付けられた原子爆弾が投下された午前８時１５...</td>\n",
              "      <td>CC-BY 2.0 (France) Attribution: tatoeba.org #8...</td>\n",
              "    </tr>\n",
              "    <tr>\n",
              "      <th>55638</th>\n",
              "      <td>If someone who doesn't know your background sa...</td>\n",
              "      <td>生い立ちを知らない人にネイティブみたいに聞こえるよって言われたら、それはおそらく、あなたの喋...</td>\n",
              "      <td>CC-BY 2.0 (France) Attribution: tatoeba.org #9...</td>\n",
              "    </tr>\n",
              "  </tbody>\n",
              "</table>\n",
              "<p>55639 rows × 3 columns</p>\n",
              "</div>\n",
              "    <div class=\"colab-df-buttons\">\n",
              "\n",
              "  <div class=\"colab-df-container\">\n",
              "    <button class=\"colab-df-convert\" onclick=\"convertToInteractive('df-b7777508-2337-4ea1-91fc-ba98c1d0e317')\"\n",
              "            title=\"Convert this dataframe to an interactive table.\"\n",
              "            style=\"display:none;\">\n",
              "\n",
              "  <svg xmlns=\"http://www.w3.org/2000/svg\" height=\"24px\" viewBox=\"0 -960 960 960\">\n",
              "    <path d=\"M120-120v-720h720v720H120Zm60-500h600v-160H180v160Zm220 220h160v-160H400v160Zm0 220h160v-160H400v160ZM180-400h160v-160H180v160Zm440 0h160v-160H620v160ZM180-180h160v-160H180v160Zm440 0h160v-160H620v160Z\"/>\n",
              "  </svg>\n",
              "    </button>\n",
              "\n",
              "  <style>\n",
              "    .colab-df-container {\n",
              "      display:flex;\n",
              "      gap: 12px;\n",
              "    }\n",
              "\n",
              "    .colab-df-convert {\n",
              "      background-color: #E8F0FE;\n",
              "      border: none;\n",
              "      border-radius: 50%;\n",
              "      cursor: pointer;\n",
              "      display: none;\n",
              "      fill: #1967D2;\n",
              "      height: 32px;\n",
              "      padding: 0 0 0 0;\n",
              "      width: 32px;\n",
              "    }\n",
              "\n",
              "    .colab-df-convert:hover {\n",
              "      background-color: #E2EBFA;\n",
              "      box-shadow: 0px 1px 2px rgba(60, 64, 67, 0.3), 0px 1px 3px 1px rgba(60, 64, 67, 0.15);\n",
              "      fill: #174EA6;\n",
              "    }\n",
              "\n",
              "    .colab-df-buttons div {\n",
              "      margin-bottom: 4px;\n",
              "    }\n",
              "\n",
              "    [theme=dark] .colab-df-convert {\n",
              "      background-color: #3B4455;\n",
              "      fill: #D2E3FC;\n",
              "    }\n",
              "\n",
              "    [theme=dark] .colab-df-convert:hover {\n",
              "      background-color: #434B5C;\n",
              "      box-shadow: 0px 1px 3px 1px rgba(0, 0, 0, 0.15);\n",
              "      filter: drop-shadow(0px 1px 2px rgba(0, 0, 0, 0.3));\n",
              "      fill: #FFFFFF;\n",
              "    }\n",
              "  </style>\n",
              "\n",
              "    <script>\n",
              "      const buttonEl =\n",
              "        document.querySelector('#df-b7777508-2337-4ea1-91fc-ba98c1d0e317 button.colab-df-convert');\n",
              "      buttonEl.style.display =\n",
              "        google.colab.kernel.accessAllowed ? 'block' : 'none';\n",
              "\n",
              "      async function convertToInteractive(key) {\n",
              "        const element = document.querySelector('#df-b7777508-2337-4ea1-91fc-ba98c1d0e317');\n",
              "        const dataTable =\n",
              "          await google.colab.kernel.invokeFunction('convertToInteractive',\n",
              "                                                    [key], {});\n",
              "        if (!dataTable) return;\n",
              "\n",
              "        const docLinkHtml = 'Like what you see? Visit the ' +\n",
              "          '<a target=\"_blank\" href=https://colab.research.google.com/notebooks/data_table.ipynb>data table notebook</a>'\n",
              "          + ' to learn more about interactive tables.';\n",
              "        element.innerHTML = '';\n",
              "        dataTable['output_type'] = 'display_data';\n",
              "        await google.colab.output.renderOutput(dataTable, element);\n",
              "        const docLink = document.createElement('div');\n",
              "        docLink.innerHTML = docLinkHtml;\n",
              "        element.appendChild(docLink);\n",
              "      }\n",
              "    </script>\n",
              "  </div>\n",
              "\n",
              "\n",
              "<div id=\"df-bc082462-6a2f-48f6-9298-63447daf88cd\">\n",
              "  <button class=\"colab-df-quickchart\" onclick=\"quickchart('df-bc082462-6a2f-48f6-9298-63447daf88cd')\"\n",
              "            title=\"Suggest charts\"\n",
              "            style=\"display:none;\">\n",
              "\n",
              "<svg xmlns=\"http://www.w3.org/2000/svg\" height=\"24px\"viewBox=\"0 0 24 24\"\n",
              "     width=\"24px\">\n",
              "    <g>\n",
              "        <path d=\"M19 3H5c-1.1 0-2 .9-2 2v14c0 1.1.9 2 2 2h14c1.1 0 2-.9 2-2V5c0-1.1-.9-2-2-2zM9 17H7v-7h2v7zm4 0h-2V7h2v10zm4 0h-2v-4h2v4z\"/>\n",
              "    </g>\n",
              "</svg>\n",
              "  </button>\n",
              "\n",
              "<style>\n",
              "  .colab-df-quickchart {\n",
              "      --bg-color: #E8F0FE;\n",
              "      --fill-color: #1967D2;\n",
              "      --hover-bg-color: #E2EBFA;\n",
              "      --hover-fill-color: #174EA6;\n",
              "      --disabled-fill-color: #AAA;\n",
              "      --disabled-bg-color: #DDD;\n",
              "  }\n",
              "\n",
              "  [theme=dark] .colab-df-quickchart {\n",
              "      --bg-color: #3B4455;\n",
              "      --fill-color: #D2E3FC;\n",
              "      --hover-bg-color: #434B5C;\n",
              "      --hover-fill-color: #FFFFFF;\n",
              "      --disabled-bg-color: #3B4455;\n",
              "      --disabled-fill-color: #666;\n",
              "  }\n",
              "\n",
              "  .colab-df-quickchart {\n",
              "    background-color: var(--bg-color);\n",
              "    border: none;\n",
              "    border-radius: 50%;\n",
              "    cursor: pointer;\n",
              "    display: none;\n",
              "    fill: var(--fill-color);\n",
              "    height: 32px;\n",
              "    padding: 0;\n",
              "    width: 32px;\n",
              "  }\n",
              "\n",
              "  .colab-df-quickchart:hover {\n",
              "    background-color: var(--hover-bg-color);\n",
              "    box-shadow: 0 1px 2px rgba(60, 64, 67, 0.3), 0 1px 3px 1px rgba(60, 64, 67, 0.15);\n",
              "    fill: var(--button-hover-fill-color);\n",
              "  }\n",
              "\n",
              "  .colab-df-quickchart-complete:disabled,\n",
              "  .colab-df-quickchart-complete:disabled:hover {\n",
              "    background-color: var(--disabled-bg-color);\n",
              "    fill: var(--disabled-fill-color);\n",
              "    box-shadow: none;\n",
              "  }\n",
              "\n",
              "  .colab-df-spinner {\n",
              "    border: 2px solid var(--fill-color);\n",
              "    border-color: transparent;\n",
              "    border-bottom-color: var(--fill-color);\n",
              "    animation:\n",
              "      spin 1s steps(1) infinite;\n",
              "  }\n",
              "\n",
              "  @keyframes spin {\n",
              "    0% {\n",
              "      border-color: transparent;\n",
              "      border-bottom-color: var(--fill-color);\n",
              "      border-left-color: var(--fill-color);\n",
              "    }\n",
              "    20% {\n",
              "      border-color: transparent;\n",
              "      border-left-color: var(--fill-color);\n",
              "      border-top-color: var(--fill-color);\n",
              "    }\n",
              "    30% {\n",
              "      border-color: transparent;\n",
              "      border-left-color: var(--fill-color);\n",
              "      border-top-color: var(--fill-color);\n",
              "      border-right-color: var(--fill-color);\n",
              "    }\n",
              "    40% {\n",
              "      border-color: transparent;\n",
              "      border-right-color: var(--fill-color);\n",
              "      border-top-color: var(--fill-color);\n",
              "    }\n",
              "    60% {\n",
              "      border-color: transparent;\n",
              "      border-right-color: var(--fill-color);\n",
              "    }\n",
              "    80% {\n",
              "      border-color: transparent;\n",
              "      border-right-color: var(--fill-color);\n",
              "      border-bottom-color: var(--fill-color);\n",
              "    }\n",
              "    90% {\n",
              "      border-color: transparent;\n",
              "      border-bottom-color: var(--fill-color);\n",
              "    }\n",
              "  }\n",
              "</style>\n",
              "\n",
              "  <script>\n",
              "    async function quickchart(key) {\n",
              "      const quickchartButtonEl =\n",
              "        document.querySelector('#' + key + ' button');\n",
              "      quickchartButtonEl.disabled = true;  // To prevent multiple clicks.\n",
              "      quickchartButtonEl.classList.add('colab-df-spinner');\n",
              "      try {\n",
              "        const charts = await google.colab.kernel.invokeFunction(\n",
              "            'suggestCharts', [key], {});\n",
              "      } catch (error) {\n",
              "        console.error('Error during call to suggestCharts:', error);\n",
              "      }\n",
              "      quickchartButtonEl.classList.remove('colab-df-spinner');\n",
              "      quickchartButtonEl.classList.add('colab-df-quickchart-complete');\n",
              "    }\n",
              "    (() => {\n",
              "      let quickchartButtonEl =\n",
              "        document.querySelector('#df-bc082462-6a2f-48f6-9298-63447daf88cd button');\n",
              "      quickchartButtonEl.style.display =\n",
              "        google.colab.kernel.accessAllowed ? 'block' : 'none';\n",
              "    })();\n",
              "  </script>\n",
              "</div>\n",
              "\n",
              "  <div id=\"id_2dd47330-732e-4ad1-80d5-349a92d3c0d7\">\n",
              "    <style>\n",
              "      .colab-df-generate {\n",
              "        background-color: #E8F0FE;\n",
              "        border: none;\n",
              "        border-radius: 50%;\n",
              "        cursor: pointer;\n",
              "        display: none;\n",
              "        fill: #1967D2;\n",
              "        height: 32px;\n",
              "        padding: 0 0 0 0;\n",
              "        width: 32px;\n",
              "      }\n",
              "\n",
              "      .colab-df-generate:hover {\n",
              "        background-color: #E2EBFA;\n",
              "        box-shadow: 0px 1px 2px rgba(60, 64, 67, 0.3), 0px 1px 3px 1px rgba(60, 64, 67, 0.15);\n",
              "        fill: #174EA6;\n",
              "      }\n",
              "\n",
              "      [theme=dark] .colab-df-generate {\n",
              "        background-color: #3B4455;\n",
              "        fill: #D2E3FC;\n",
              "      }\n",
              "\n",
              "      [theme=dark] .colab-df-generate:hover {\n",
              "        background-color: #434B5C;\n",
              "        box-shadow: 0px 1px 3px 1px rgba(0, 0, 0, 0.15);\n",
              "        filter: drop-shadow(0px 1px 2px rgba(0, 0, 0, 0.3));\n",
              "        fill: #FFFFFF;\n",
              "      }\n",
              "    </style>\n",
              "    <button class=\"colab-df-generate\" onclick=\"generateWithVariable('df')\"\n",
              "            title=\"Generate code using this dataframe.\"\n",
              "            style=\"display:none;\">\n",
              "\n",
              "  <svg xmlns=\"http://www.w3.org/2000/svg\" height=\"24px\"viewBox=\"0 0 24 24\"\n",
              "       width=\"24px\">\n",
              "    <path d=\"M7,19H8.4L18.45,9,17,7.55,7,17.6ZM5,21V16.75L18.45,3.32a2,2,0,0,1,2.83,0l1.4,1.43a1.91,1.91,0,0,1,.58,1.4,1.91,1.91,0,0,1-.58,1.4L9.25,21ZM18.45,9,17,7.55Zm-12,3A5.31,5.31,0,0,0,4.9,8.1,5.31,5.31,0,0,0,1,6.5,5.31,5.31,0,0,0,4.9,4.9,5.31,5.31,0,0,0,6.5,1,5.31,5.31,0,0,0,8.1,4.9,5.31,5.31,0,0,0,12,6.5,5.46,5.46,0,0,0,6.5,12Z\"/>\n",
              "  </svg>\n",
              "    </button>\n",
              "    <script>\n",
              "      (() => {\n",
              "      const buttonEl =\n",
              "        document.querySelector('#id_2dd47330-732e-4ad1-80d5-349a92d3c0d7 button.colab-df-generate');\n",
              "      buttonEl.style.display =\n",
              "        google.colab.kernel.accessAllowed ? 'block' : 'none';\n",
              "\n",
              "      buttonEl.onclick = () => {\n",
              "        google.colab.notebook.generateWithVariable('df');\n",
              "      }\n",
              "      })();\n",
              "    </script>\n",
              "  </div>\n",
              "\n",
              "    </div>\n",
              "  </div>\n"
            ]
          },
          "metadata": {},
          "execution_count": 23
        }
      ]
    },
    {
      "cell_type": "code",
      "execution_count": null,
      "metadata": {
        "id": "VL3g9IEwI8ED"
      },
      "outputs": [],
      "source": [
        "#df=df.sample(20000)"
      ]
    },
    {
      "cell_type": "code",
      "execution_count": null,
      "metadata": {
        "id": "cqZxsgQJRyVV"
      },
      "outputs": [],
      "source": [
        "source_text=df['source'].tolist()\n",
        "target_text=df['target'].tolist()"
      ]
    },
    {
      "cell_type": "code",
      "execution_count": null,
      "metadata": {
        "id": "gUYjQYngR9fr"
      },
      "outputs": [],
      "source": [
        "source_tokenizer=Tokenizer()\n",
        "source_tokenizer.fit_on_texts(source_text)"
      ]
    },
    {
      "cell_type": "code",
      "execution_count": null,
      "metadata": {
        "id": "QgHQirxZR9hV"
      },
      "outputs": [],
      "source": [
        "source_sequences=source_tokenizer.texts_to_sequences(source_text)\n",
        "source_vocab_size=len(source_tokenizer.word_index)+1"
      ]
    },
    {
      "cell_type": "code",
      "execution_count": null,
      "metadata": {
        "id": "UrgjE3efR9j4"
      },
      "outputs": [],
      "source": [
        "target_tokenizer = Tokenizer()\n",
        "target_tokenizer.fit_on_texts(target_text)\n",
        "target_sequences = target_tokenizer.texts_to_sequences(target_text)\n",
        "target_vocab_size = len(target_tokenizer.word_index) + 1"
      ]
    },
    {
      "cell_type": "code",
      "execution_count": null,
      "metadata": {
        "id": "wqoy7K0xR9nY"
      },
      "outputs": [],
      "source": [
        "max_source_length = max(len(seq) for seq in source_sequences)\n",
        "max_target_length = max(len(seq) for seq in target_sequences)\n",
        "\n",
        "source_sequences_padded = pad_sequences(source_sequences, maxlen=max_source_length, padding='post')\n",
        "target_sequences_padded = pad_sequences(target_sequences, maxlen=max_target_length, padding='post')"
      ]
    },
    {
      "cell_type": "code",
      "execution_count": null,
      "metadata": {
        "id": "ajVV_XOwSc35"
      },
      "outputs": [],
      "source": [
        "source_train, source_val, target_train, target_val = train_test_split(source_sequences_padded, target_sequences_padded, test_size=0.2, random_state=42)"
      ]
    },
    {
      "cell_type": "code",
      "execution_count": null,
      "metadata": {
        "id": "hNNtekmuSc6X"
      },
      "outputs": [],
      "source": [
        "embedding_dim=256\n",
        "units=100"
      ]
    },
    {
      "cell_type": "code",
      "execution_count": null,
      "metadata": {
        "id": "0fJCvPiJSc9l"
      },
      "outputs": [],
      "source": [
        "model = tf.keras.Sequential([\n",
        "    tf.keras.layers.Embedding(source_vocab_size, embedding_dim, input_length=max_source_length, mask_zero=True),\n",
        "    tf.keras.layers.LSTM(units),\n",
        "    tf.keras.layers.RepeatVector(max_target_length),\n",
        "    tf.keras.layers.LSTM(units, return_sequences=True),\n",
        "    tf.keras.layers.Dense(target_vocab_size, activation='softmax')\n",
        "])"
      ]
    },
    {
      "cell_type": "code",
      "execution_count": null,
      "metadata": {
        "id": "zm7f8UepSdA-"
      },
      "outputs": [],
      "source": [
        "model.compile(optimizer='adam', loss='sparse_categorical_crossentropy', metrics=['accuracy'])"
      ]
    },
    {
      "cell_type": "code",
      "execution_count": null,
      "metadata": {
        "colab": {
          "base_uri": "https://localhost:8080/"
        },
        "id": "EIvKiCxcTIFZ",
        "outputId": "4d0d43a3-789d-4ded-dc2e-f7626746ae20"
      },
      "outputs": [
        {
          "output_type": "stream",
          "name": "stdout",
          "text": [
            "Epoch 1/10\n",
            "1391/1391 [==============================] - 67s 43ms/step - loss: 1.6323 - accuracy: 0.8738 - val_loss: 1.4128 - val_accuracy: 0.8748\n",
            "Epoch 2/10\n",
            "1391/1391 [==============================] - 54s 39ms/step - loss: 1.3416 - accuracy: 0.8746 - val_loss: 1.4932 - val_accuracy: 0.8748\n",
            "Epoch 3/10\n",
            "1391/1391 [==============================] - 52s 37ms/step - loss: 1.3316 - accuracy: 0.8747 - val_loss: 1.5536 - val_accuracy: 0.8748\n",
            "Epoch 4/10\n",
            "1391/1391 [==============================] - 54s 39ms/step - loss: 1.3215 - accuracy: 0.8747 - val_loss: 1.6273 - val_accuracy: 0.8748\n",
            "Epoch 5/10\n",
            "1391/1391 [==============================] - 53s 38ms/step - loss: 1.3077 - accuracy: 0.8747 - val_loss: 1.6696 - val_accuracy: 0.8748\n",
            "Epoch 6/10\n",
            "1391/1391 [==============================] - 54s 39ms/step - loss: 1.2866 - accuracy: 0.8748 - val_loss: 1.7030 - val_accuracy: 0.8749\n",
            "Epoch 7/10\n",
            "1391/1391 [==============================] - 51s 37ms/step - loss: 1.2550 - accuracy: 0.8748 - val_loss: 1.7419 - val_accuracy: 0.8749\n",
            "Epoch 8/10\n",
            "1391/1391 [==============================] - 54s 39ms/step - loss: 1.2174 - accuracy: 0.8749 - val_loss: 1.7840 - val_accuracy: 0.8749\n",
            "Epoch 9/10\n",
            "1391/1391 [==============================] - 51s 37ms/step - loss: 1.1711 - accuracy: 0.8750 - val_loss: 1.7831 - val_accuracy: 0.8750\n",
            "Epoch 10/10\n",
            "1391/1391 [==============================] - 53s 38ms/step - loss: 1.1094 - accuracy: 0.8751 - val_loss: 1.8194 - val_accuracy: 0.8750\n"
          ]
        },
        {
          "output_type": "execute_result",
          "data": {
            "text/plain": [
              "<keras.src.callbacks.History at 0x7b578b9fce50>"
            ]
          },
          "metadata": {},
          "execution_count": 15
        }
      ],
      "source": [
        "model.fit(source_train,target_train,epochs=10,validation_data=(source_val,target_val))"
      ]
    },
    {
      "cell_type": "code",
      "execution_count": null,
      "metadata": {
        "id": "des7oAoGTIHh"
      },
      "outputs": [],
      "source": [
        "# Example English sentence to translate\n",
        "input_sentence = \"import tkinter as tk\n",
        "from tkinter import ttk\n",
        "from tensorflow.keras.models import load_model\n",
        "from tensorflow.keras.preprocessing.sequence import pad_sequences\n",
        "from tensorflow.keras.preprocessing.text import Tokenizer\n",
        "\n",
        "# Load your machine translation model\n",
        "model = load_model('your_translation_model.h5')\n",
        "\n",
        "# Sample tokenizer (you should use the same tokenizer used during training)\n",
        "tokenizer = Tokenizer()\n",
        "tokenizer.word_index = {'<pad>': 0, 'hello': 1, 'world': 2}  # Replace with your actual word index\n",
        "\n",
        "def translate_sentence(input_sentence):\n",
        "    # Tokenize and pad the input sentence\n",
        "    input_sequence = tokenizer.texts_to_sequences([input_sentence])\n",
        "    padded_sequence = pad_sequences(input_sequence, padding='post')\n",
        "\n",
        "    # Model prediction\n",
        "    predicted_sequence = model.predict(padded_sequence)\n",
        "\n",
        "    # Decode the predicted sequence (replace with your decoding logic)\n",
        "    translated_sentence = \" \".join([reverse_word_index.get(idx, '') for idx in predicted_sequence[0]])\n",
        "\n",
        "    return translated_sentence\n",
        "\n",
        "def on_translate_button_click():\n",
        "    input_text = input_entry.get()\n",
        "    translated_text = translate_sentence(input_text)\n",
        "    output_label.config(text=f\"Translated: {translated_text}\")\n",
        "\n",
        "# Create the main window\n",
        "window = tk.Tk()\n",
        "window.title(\"Translation GUI\")\n",
        "\n",
        "# Input entry\n",
        "input_entry = ttk.Entry(window, width=40)\n",
        "input_entry.pack(pady=10)\n",
        "\n",
        "# Translate button\n",
        "translate_button = ttk\"\n",
        "\n",
        "# Tokenize and pad the input sentence\n",
        "input_sequence = source_tokenizer.texts_to_sequences([input_sentence])\n",
        "input_sequence_padded = pad_sequences(input_sequence, maxlen=max_source_length, padding='post')"
      ]
    },
    {
      "cell_type": "code",
      "source": [
        "\n",
        "\n",
        "input_sentence=\"Go\"\n",
        "\n",
        "# Tokenize and pad the input sentence\n",
        "input_sequence = source_tokenizer.texts_to_sequences([input_sentence])\n",
        "input_sequence_padded = pad_sequences(input_sequence, maxlen=max_source_length, padding='post')"
      ],
      "metadata": {
        "id": "f1LR-og-XI73"
      },
      "execution_count": null,
      "outputs": []
    },
    {
      "cell_type": "code",
      "execution_count": null,
      "metadata": {
        "colab": {
          "base_uri": "https://localhost:8080/"
        },
        "id": "WNhK17fOTIJL",
        "outputId": "05f2e965-8605-46fb-e020-bd1984164067"
      },
      "outputs": [
        {
          "output_type": "stream",
          "name": "stdout",
          "text": [
            "1/1 [==============================] - 0s 21ms/step\n"
          ]
        }
      ],
      "source": [
        "# Make prediction\n",
        "predicted_sequence = model.predict(input_sequence_padded)\n",
        "\n",
        "# Get the index of the most probable word for each position in the sequence\n",
        "predicted_sequence_indices = [np.argmax(token_probs) for token_probs in predicted_sequence[0]]\n",
        "\n",
        "# Convert indices back to words using the target tokenizer\n",
        "predicted_words = [word for word, index in target_tokenizer.word_index.items() if index in predicted_sequence_indices]\n",
        "\n",
        "# Join the predicted words to form the translated sentence\n",
        "translated_sentence = ' '.join(predicted_words)"
      ]
    },
    {
      "cell_type": "code",
      "execution_count": null,
      "metadata": {
        "colab": {
          "base_uri": "https://localhost:8080/",
          "height": 36
        },
        "id": "BTDsPo6RTIMi",
        "outputId": "5eed7892-99e1-4752-c11f-ac29e09aaa62"
      },
      "outputs": [
        {
          "output_type": "execute_result",
          "data": {
            "text/plain": [
              "'すごい！'"
            ],
            "application/vnd.google.colaboratory.intrinsic+json": {
              "type": "string"
            }
          },
          "metadata": {},
          "execution_count": 29
        }
      ],
      "source": [
        "translated_sentence"
      ]
    },
    {
      "cell_type": "code",
      "execution_count": null,
      "metadata": {
        "id": "Q9Xf-iYUbrwD",
        "colab": {
          "base_uri": "https://localhost:8080/"
        },
        "outputId": "8a65406e-880a-433a-b69c-c9346c56176c"
      },
      "outputs": [
        {
          "output_type": "stream",
          "name": "stderr",
          "text": [
            "/usr/local/lib/python3.10/dist-packages/keras/src/engine/training.py:3103: UserWarning: You are saving your model as an HDF5 file via `model.save()`. This file format is considered legacy. We recommend using instead the native Keras format, e.g. `model.save('my_model.keras')`.\n",
            "  saving_api.save_model(\n"
          ]
        }
      ],
      "source": [
        "model=model.save(\"Transalter.h5\")"
      ]
    },
    {
      "cell_type": "code",
      "source": [],
      "metadata": {
        "id": "nWKZkktTXsWU"
      },
      "execution_count": null,
      "outputs": []
    }
  ],
  "metadata": {
    "accelerator": "GPU",
    "colab": {
      "provenance": []
    },
    "kernelspec": {
      "display_name": "Python 3",
      "name": "python3"
    },
    "language_info": {
      "name": "python"
    }
  },
  "nbformat": 4,
  "nbformat_minor": 0
}